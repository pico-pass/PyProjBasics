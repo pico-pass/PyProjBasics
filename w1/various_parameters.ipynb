{
 "cells": [
  {
   "attachments": {},
   "cell_type": "markdown",
   "metadata": {},
   "source": [
    "### 파이썬 함수는 다음과 같이 구성된다.\n",
    "```py\n",
    "def 함수명(매개변수):\n",
    "    <수행할 문장1>\n",
    "    <수행할 문장2>\n",
    "    ...\n",
    "    return 결과값\n",
    "```\n",
    "매개변수와 return은 있을 수도 있고 없을 수도 있다.\\\n",
    "`return 과 print의 상관관계 같이 기초적인 부분은 이미 충분히 숙지하고 있다고 가정하고 이 강좌에서 생략한다.`"
   ]
  },
  {
   "cell_type": "code",
   "execution_count": 2,
   "metadata": {},
   "outputs": [],
   "source": [
    "def nameOfFunction(parameter1, parameter2, parameter3, parameterN):\n",
    "    ##fill some amazing code here\n",
    "    pass"
   ]
  },
  {
   "attachments": {},
   "cell_type": "markdown",
   "metadata": {},
   "source": [
    "하지만 더 많은 방식으로 매개변수를 전달할 수 있다. 다음을 보자\n",
    "\n",
    "---\n",
    "```py\n",
    "def 함수명(*매개변수):\n",
    "    <수행할 문장1>\n",
    "    <수행할 문장2>\n",
    "    ...\n",
    "    return 결과값\n",
    "```\n",
    "이렇게 매개변수 앞에 *을 붙이면 입력값을 전부 모아서 튜플로 만들어준다.\n",
    "\n",
    "---\n",
    "```py\n",
    "def 함수명(**매개변수):\n",
    "    <수행할 문장1>\n",
    "    <수행할 문장2>\n",
    "    ...\n",
    "    return 결과값\n",
    "```\n",
    "이렇게 매개변수 앞에 **을 붙이면 입력값을 전부 모아서 딕셔너리로 만들어준다.\n",
    "\n",
    "---\n",
    "```py\n",
    "def 함수명(매개변수1=값1, 매개변수2=값2, ...):\n",
    "    <수행할 문장1>\n",
    "    <수행할 문장2>\n",
    "    ...\n",
    "    return 결과값\n",
    "```\n",
    "이렇게 매개변수에 기본값을 설정할 수도 있다.\n",
    "\n",
    "---\n",
    "## 실습"
   ]
  },
  {
   "attachments": {},
   "cell_type": "markdown",
   "metadata": {},
   "source": [
    "### 별 한개만 있는 경우\n",
    "관습적으로 args라는 변수를 사용하긴 하나 이름은 자유롭게 정할 수 있다.\n",
    "```py\n",
    "def sum_many(*args):\n",
    "    sum = 0\n",
    "    for i in args:\n",
    "        sum = sum + i\n",
    "    return sum\n",
    "```\n",
    "위 함수는 입력값을 모두 더해주는 함수이다.\\\n",
    "이 함수를 사용하면 다음과 같이 사용할 수 있다.\n",
    "```py\n",
    "result = sum_many(1, 2, 3)\n",
    "print(result)\n",
    "```\n",
    "결과는 6이다.\\\n",
    "`(도움말)튜플이 낯설다면?`\n",
    "```txt\n",
    "튜플은 리스트와 비슷하게 사용할 수 있는 파이썬의 자료구조이다.\n",
    "다만 리스트와 다르게 튜플은 한번 생성되면 그 값을 바꿀 수 없다.\n",
    "```\n",
    "그래서 별 한개를 사용하는 매개변수는 n개의 입력을 받아 리스트처럼 사용할 수 있게 해준다고 생각하면 된다.\\\n",
    "아래 예시를 통해 실제로 매겨번수가 어떻게 받아지고 어떤 형식인지 확인해 보자."
   ]
  },
  {
   "cell_type": "code",
   "execution_count": null,
   "metadata": {},
   "outputs": [],
   "source": [
    "def oneStar(*args):\n",
    "    print(args)\n",
    "    print(type(args))\n",
    "\n",
    "oneStar(1,2,3,4,5,6,7,8,9,10)"
   ]
  },
  {
   "attachments": {},
   "cell_type": "markdown",
   "metadata": {},
   "source": [
    "---"
   ]
  },
  {
   "attachments": {},
   "cell_type": "markdown",
   "metadata": {},
   "source": [
    "### 별 두개만 있는 경우\n",
    "관습적으로 kwargs라는 변수를 사용하긴 하나 이름은 자유롭게 정할 수 있다.\n",
    "```py\n",
    "def print_kwargs(**kwargs):\n",
    "    print(kwargs)\n",
    "```\n",
    "위 함수는 입력값을 모두 출력해주는 함수이다.\\\n",
    "이 함수를 사용하면 다음과 같이 사용할 수 있다.\n",
    "```py\n",
    "print_kwargs(a=1)\n",
    "print_kwargs(name='foo', age=3)\n",
    "```\n",
    "결과는 다음과 같다.\n",
    "```txt\n",
    "{'a': 1}\n",
    "{'name': 'foo', 'age': 3}\n",
    "```\n",
    "`(도움말)딕셔너리가 낯설다면?`\n",
    "```txt\n",
    "딕셔너리는 키와 값으로 이루어진 자료구조이다.\n",
    "리스트와 다르게 정수형으로 호출하는게 아니라 키값을 기준으로 호출한다.\n",
    "예제)\n",
    "```\n",
    "```py\n",
    "dic = {'name': 'foo', 'age': 3}\n",
    "print(dic['name'])\n",
    "```\n",
    "그래서 별 두개를 사용하는 매개변수는 n개의 입력을 받아 딕셔너리처럼 사용할 수 있게 해준다고 생각하면 된다.\\\n",
    "아래 예시를 통해 실제로 매겨번수가 어떻게 받아지고 어떤 형식인지 확인해 보자."
   ]
  },
  {
   "cell_type": "code",
   "execution_count": null,
   "metadata": {},
   "outputs": [],
   "source": [
    "def twoStar(**kwargs):\n",
    "    print(kwargs)\n",
    "    print(type(kwargs))\n",
    "\n",
    "twoStar(a=1,b=2,c=3,d=4,e=5,f=6,g=7,h=8,i=9,j=10)"
   ]
  },
  {
   "attachments": {},
   "cell_type": "markdown",
   "metadata": {},
   "source": [
    "아직도 kwargs가 어떤 형식인지 이해가 안되는 사람은 다음을 보자.\n",
    "```py\n",
    "    def print_person_info(name, age, **kwargs):\n",
    "    print(f\"Name: {name}\")\n",
    "    print(f\"Age: {age}\")\n",
    "    \n",
    "    if kwargs:\n",
    "        print(\"Additional Information:\")\n",
    "        for key, value in kwargs.items():\n",
    "            print(f\"{key}: {value}\")\n",
    "```\n",
    "위 코드는 기본적으로 이름과 나이를 출력하는 함수이다.\\\n",
    "그러나 만약 추가적인 정보가 있다면 어떻게 해야 할까?\\\n",
    "이럴 때 kwargs를 사용하면 된다.\n",
    "\n",
    "```py\n",
    "print_person_info(\"John\", 30)\n",
    "# {name: \"John\", age: 30}\n",
    "\n",
    "print_person_info(\"John\", 30, job=\"Programmer\", hobby=\"Coding\")\n",
    "# {name: \"John\", age: 30, job: \"Programmer\", hobby: \"Coding\"}\n",
    "```"
   ]
  },
  {
   "attachments": {},
   "cell_type": "markdown",
   "metadata": {},
   "source": [
    "---"
   ]
  },
  {
   "attachments": {},
   "cell_type": "markdown",
   "metadata": {},
   "source": [
    "### 매개변수 초기화\n",
    "가장 많이 사용하고 `매우 유용한` 기능이다.\\\n",
    "매개변수에 기본값을 설정할 수 있다.\\\n",
    "이렇게 하면 입력값이 없을 때 기본값을 사용한다.\n",
    "```py\n",
    "def paramInit(param1=0, param2=1, param3=2)\n",
    "    print(param1, param2, param3)\n",
    "```\n",
    "위 함수는 매개변수를 3개 받는다.\\\n",
    "그러나 입력값이 없을 때 기본값을 사용한다.\\\n",
    "이 함수를 사용하면 다음과 같이 사용할 수 있다.\n",
    "```py\n",
    "paramInit()\n",
    "paramInit(1)\n",
    "paramInit(1, 2)\n",
    "paramInit(1, 2, 3)\n",
    "```\n",
    "결과는 다음과 같다.\n",
    "```txt\n",
    "0 1 2\n",
    "1 1 2\n",
    "1 2 2\n",
    "1 2 3\n",
    "```"
   ]
  },
  {
   "cell_type": "code",
   "execution_count": 6,
   "metadata": {},
   "outputs": [],
   "source": [
    "def paramInit(param1=0, param2=1, param3=2):\n",
    "    print(param1, param2, param3)"
   ]
  },
  {
   "cell_type": "code",
   "execution_count": null,
   "metadata": {},
   "outputs": [],
   "source": [
    "paramInit()"
   ]
  },
  {
   "cell_type": "code",
   "execution_count": null,
   "metadata": {},
   "outputs": [],
   "source": [
    "paramInit(1)"
   ]
  },
  {
   "cell_type": "code",
   "execution_count": null,
   "metadata": {},
   "outputs": [],
   "source": [
    "paramInit(1,2,3)"
   ]
  },
  {
   "cell_type": "code",
   "execution_count": null,
   "metadata": {},
   "outputs": [],
   "source": [
    "paramInit(param3=3, param2=2, param1=1)"
   ]
  },
  {
   "attachments": {},
   "cell_type": "markdown",
   "metadata": {},
   "source": [
    "\n",
    "---\n",
    "\n",
    "## 인자를 넘길때 사용하는 등호\n",
    "맨 마지막 예시를 본다면 뭔가 이상한 점이 있을 것이다.\\\n",
    "`paramInit(param3=3, param2=2, param1=1)`을 보면 3, 2, 1이 순서대로 param1, param2, param3에 들어가는 것이 아니라는 것이다.\\\n",
    "그렇다고 `paramInit()`함수가 **kwargs를 사용한것도 아니다.\\\n",
    "그냥 매개변수를 넘길 때 등호를 사용해서 넘긴 것이다.\\\n",
    "이렇게 하면 순서를 신경쓰지 않고 매개변수를 넘길 수 있다.\n",
    "\n",
    "---\n",
    "\n",
    "`(도움말) print() 함수에서 end=''는 **kwagrs를 사용한걸까?`\n",
    "```py\n",
    "print(\"Hello\", end='')\n",
    "```\n",
    "아래는 실제 print() 함수의 정의이다.\n",
    "```py\n",
    "def print(*args, sep=' ', end='\\n', file=None):\n",
    "    pass\n",
    "```\n",
    "위 함수를 보면 `*args`와 `**kwargs`를 사용한 것이 아니라는 것을 알 수 있다.\\\n",
    "그냥 매개변수를 넘길 때 등호를 사용해서 넘긴 것이다.\n",
    "\n",
    "---\n",
    "\n",
    "`(도움말) 이렇게 사용하는 변수가 무지막지하게 많다면?`\\\n",
    "그러나 이렇게 사용하면 매개변수의 순서를 신경쓰지 않기 때문에 매개변수의 개수가 많아지면 어떤 매개변수가 어떤 값을 받는지 헷갈릴 수 있다.\\\n",
    "그래서 이런 경우에는 `**kwargs`를 사용하는 것이 좋다."
   ]
  },
  {
   "attachments": {},
   "cell_type": "markdown",
   "metadata": {},
   "source": [
    "---"
   ]
  },
  {
   "attachments": {},
   "cell_type": "markdown",
   "metadata": {},
   "source": [
    "## 응용\n",
    "```py\n",
    "def 함수명(매개변수1, 매개변수2=값2, *매개변수, 매개변수3=값3, ...):\n",
    "    <수행할 문장1>\n",
    "    <수행할 문장2>\n",
    "    ...\n",
    "    return 결과값\n",
    "```\n",
    "이렇게 매개변수에 기본값을 설정하고 입력값을 모아서 튜플로 만들어줄 수도 있다.\n",
    "\n",
    "```py\n",
    "def 함수명(매개변수1, 매개변수2=값2, *매개변수, 매개변수3=값3, **매개변수):\n",
    "    <수행할 문장1>\n",
    "    <수행할 문장2>\n",
    "    ...\n",
    "    return 결과값\n",
    "```\n",
    "이렇게 매개변수에 기본값을 설정하고 입력값을 모아서 딕셔너리로 만들어줄 수도 있다.\\\n",
    "\n",
    "`주의할점`은 **매개변수의 경우 `접근할 방법이 아예 없기 때문에` 맨 뒤에 있어야 한다는 것이다.\\\n",
    "`*arg`의 경우 뒤에 있는 변수들을 `=`를 통해 접근할수 있기 때문에 괜찮다."
   ]
  },
  {
   "attachments": {},
   "cell_type": "markdown",
   "metadata": {},
   "source": [
    "\n",
    "---\n",
    "\n",
    "## 연습문제\n"
   ]
  },
  {
   "cell_type": "code",
   "execution_count": 20,
   "metadata": {},
   "outputs": [],
   "source": [
    "### aw_sum() 함수로 들어오는 모든 정수형 매개변수의 합을 구하자\n",
    "def aw_sum():\n",
    "    ans = 0\n",
    "    pass\n",
    "    print(ans) #반드시 함수 내에서 프린트 해줄것"
   ]
  },
  {
   "cell_type": "code",
   "execution_count": null,
   "metadata": {},
   "outputs": [],
   "source": [
    "import random\n",
    "param = [str(i) for i in range(random.randrange(1,50), random.randrange(50,100), random.randrange(1,5))]\n",
    "print(f\"input:{param}\")\n",
    "eval(f\"aw_sum({', '.join(param)})\") #대충 aw_sum([1, 2, n ...])이 아니라 aw_sum(1, 2, n....)을 하기 위한 출제자의 발악"
   ]
  },
  {
   "attachments": {},
   "cell_type": "markdown",
   "metadata": {},
   "source": [
    "---"
   ]
  },
  {
   "cell_type": "code",
   "execution_count": null,
   "metadata": {},
   "outputs": [],
   "source": [
    "### 아래 함수가 작동하도록 함수를 호출해 보시오\n",
    "def didnt_work(**kwargs):\n",
    "    a = kwargs[\"a\"]\n",
    "    b = kwargs[\"b\"]\n",
    "    print(a+b)"
   ]
  },
  {
   "cell_type": "code",
   "execution_count": null,
   "metadata": {},
   "outputs": [],
   "source": [
    "didnt_work()"
   ]
  },
  {
   "attachments": {},
   "cell_type": "markdown",
   "metadata": {},
   "source": [
    "---"
   ]
  },
  {
   "cell_type": "code",
   "execution_count": 5,
   "metadata": {},
   "outputs": [],
   "source": [
    "### 아래 함수를 이해하고 적절히 사용해 보시오\n",
    "def calculate_average_grades(student_name, *grades, grade_scale=1):\n",
    "    \"\"\"\n",
    "    Calculates the average grade for a student based on the provided grades.\n",
    "    \n",
    "    Args:\n",
    "        student_name (str): The name of the student.\n",
    "        *grades (float): Variable number of grade values for the student.\n",
    "        grade_scale (float, optional): The maximum grade scale. Default is 1.\n",
    "    \n",
    "    Returns:\n",
    "        float: The scaled average grade for the student.\n",
    "    \"\"\"\n",
    "\n",
    "    total_grades = sum(grades)\n",
    "    num_grades = len(grades)\n",
    "    average_grade = total_grades / num_grades\n",
    "    scaled_average_grade = average_grade * grade_scale\n",
    "\n",
    "    # ctrl+k로 여러줄의 주석을 한번에 주석을 할당하거나 해제할 수 있다.\n",
    "    # print(\"Calculating average grades for\", student_name)\n",
    "    # print(\"Grades:\", grades)\n",
    "    # print(\"Total grades:\", total_grades)\n",
    "    # print(\"Number of grades:\", num_grades)\n",
    "    # print(\"Average grade:\", average_grade)\n",
    "    # print(\"Scaled average grade:\", scaled_average_grade)\n",
    "\n",
    "    return scaled_average_grade"
   ]
  },
  {
   "cell_type": "code",
   "execution_count": 6,
   "metadata": {},
   "outputs": [
    {
     "name": "stdout",
     "output_type": "stream",
     "text": [
      "Scaled average grade: 4400.0\n"
     ]
    }
   ],
   "source": [
    "# average = calculate_average_grades(\"John\", 80, 90, 95, 87, grade_scale=50)\n",
    "# print(\"Scaled average grade:\", average)"
   ]
  }
 ],
 "metadata": {
  "kernelspec": {
   "display_name": "Python 3 (ipykernel)",
   "language": "python",
   "name": "python3"
  },
  "language_info": {
   "codemirror_mode": {
    "name": "ipython",
    "version": 3
   },
   "file_extension": ".py",
   "mimetype": "text/x-python",
   "name": "python",
   "nbconvert_exporter": "python",
   "pygments_lexer": "ipython3",
   "version": "3.11.1"
  },
  "orig_nbformat": 4
 },
 "nbformat": 4,
 "nbformat_minor": 2
}
